{
 "cells": [
  {
   "cell_type": "markdown",
   "id": "ee81f6e4",
   "metadata": {},
   "source": [
    "# import libarary"
   ]
  },
  {
   "cell_type": "code",
   "execution_count": 40,
   "id": "ac237272",
   "metadata": {},
   "outputs": [],
   "source": [
    "import numpy as np\n",
    "import pandas as pd\n",
    "import matplotlib.pyplot as plt\n",
    "import seaborn as sns\n",
    "from pathlib import Path\n",
    "import os\n",
    "import glob\n",
    "from sklearn.utils import shuffle\n",
    "from sklearn.preprocessing import RobustScaler\n",
    "from sklearn.model_selection import train_test_split\n",
    "\n",
    "from catboost import Pool, CatBoostClassifier\n",
    "from sklearn.ensemble import BaggingClassifier\n",
    "from sklearn.naive_bayes import GaussianNB\n",
    "from sklearn.ensemble import RandomForestClassifier\n",
    "from sklearn.ensemble import AdaBoostClassifier\n",
    "from sklearn.linear_model import LogisticRegression\n",
    "from sklearn.linear_model import Perceptron\n",
    "from sklearn.neural_network import MLPClassifier\n",
    "# from xgboost import XGBClassifier\n",
    "from sklearn.ensemble import StackingClassifier\n",
    "\n",
    "from sklearn.metrics import f1_score, precision_score, recall_score, accuracy_score, classification_report, confusion_matrix\n",
    "import time\n",
    "\n",
    "import pickle"
   ]
  },
  {
   "cell_type": "markdown",
   "id": "11c52f66",
   "metadata": {},
   "source": [
    "### read df_train"
   ]
  },
  {
   "cell_type": "code",
   "execution_count": 2,
   "id": "0810c550",
   "metadata": {
    "scrolled": true
   },
   "outputs": [],
   "source": [
    "df = pd.read_csv('../data/raw/df_train.csv' , encoding='cp1252')"
   ]
  },
  {
   "cell_type": "code",
   "execution_count": 3,
   "id": "73c46a5c",
   "metadata": {},
   "outputs": [
    {
     "data": {
      "text/html": [
       "<div>\n",
       "<style scoped>\n",
       "    .dataframe tbody tr th:only-of-type {\n",
       "        vertical-align: middle;\n",
       "    }\n",
       "\n",
       "    .dataframe tbody tr th {\n",
       "        vertical-align: top;\n",
       "    }\n",
       "\n",
       "    .dataframe thead th {\n",
       "        text-align: right;\n",
       "    }\n",
       "</style>\n",
       "<table border=\"1\" class=\"dataframe\">\n",
       "  <thead>\n",
       "    <tr style=\"text-align: right;\">\n",
       "      <th></th>\n",
       "      <th>Flow ID</th>\n",
       "      <th>Source IP</th>\n",
       "      <th>Source Port</th>\n",
       "      <th>Destination IP</th>\n",
       "      <th>Destination Port</th>\n",
       "      <th>Protocol</th>\n",
       "      <th>Timestamp</th>\n",
       "      <th>Flow Duration</th>\n",
       "      <th>Total Fwd Packets</th>\n",
       "      <th>Total Backward Packets</th>\n",
       "      <th>...</th>\n",
       "      <th>min_seg_size_forward</th>\n",
       "      <th>Active Mean</th>\n",
       "      <th>Active Std</th>\n",
       "      <th>Active Max</th>\n",
       "      <th>Active Min</th>\n",
       "      <th>Idle Mean</th>\n",
       "      <th>Idle Std</th>\n",
       "      <th>Idle Max</th>\n",
       "      <th>Idle Min</th>\n",
       "      <th>Label</th>\n",
       "    </tr>\n",
       "  </thead>\n",
       "  <tbody>\n",
       "    <tr>\n",
       "      <th>0</th>\n",
       "      <td>192.168.10.3-192.168.10.16-53-45506-17</td>\n",
       "      <td>192.168.10.16</td>\n",
       "      <td>45506.0</td>\n",
       "      <td>192.168.10.3</td>\n",
       "      <td>53.0</td>\n",
       "      <td>17.0</td>\n",
       "      <td>7/7/2017 10:55</td>\n",
       "      <td>31087.0</td>\n",
       "      <td>2.0</td>\n",
       "      <td>2.0</td>\n",
       "      <td>...</td>\n",
       "      <td>32.0</td>\n",
       "      <td>0.0</td>\n",
       "      <td>0.0</td>\n",
       "      <td>0.0</td>\n",
       "      <td>0.0</td>\n",
       "      <td>0.0</td>\n",
       "      <td>0.0</td>\n",
       "      <td>0.0</td>\n",
       "      <td>0.0</td>\n",
       "      <td>0</td>\n",
       "    </tr>\n",
       "    <tr>\n",
       "      <th>1</th>\n",
       "      <td>172.16.0.1-192.168.10.50-46298-80-6</td>\n",
       "      <td>172.16.0.1</td>\n",
       "      <td>46298.0</td>\n",
       "      <td>192.168.10.50</td>\n",
       "      <td>80.0</td>\n",
       "      <td>6.0</td>\n",
       "      <td>5/7/2017 10:44</td>\n",
       "      <td>98335726.0</td>\n",
       "      <td>8.0</td>\n",
       "      <td>5.0</td>\n",
       "      <td>...</td>\n",
       "      <td>32.0</td>\n",
       "      <td>1008.0</td>\n",
       "      <td>0.0</td>\n",
       "      <td>1008.0</td>\n",
       "      <td>1008.0</td>\n",
       "      <td>98300000.0</td>\n",
       "      <td>0.0</td>\n",
       "      <td>98300000.0</td>\n",
       "      <td>98300000.0</td>\n",
       "      <td>1</td>\n",
       "    </tr>\n",
       "    <tr>\n",
       "      <th>2</th>\n",
       "      <td>192.168.10.3-192.168.10.5-53-63360-17</td>\n",
       "      <td>192.168.10.5</td>\n",
       "      <td>63360.0</td>\n",
       "      <td>192.168.10.3</td>\n",
       "      <td>53.0</td>\n",
       "      <td>17.0</td>\n",
       "      <td>7/7/2017 11:51</td>\n",
       "      <td>222.0</td>\n",
       "      <td>2.0</td>\n",
       "      <td>2.0</td>\n",
       "      <td>...</td>\n",
       "      <td>32.0</td>\n",
       "      <td>0.0</td>\n",
       "      <td>0.0</td>\n",
       "      <td>0.0</td>\n",
       "      <td>0.0</td>\n",
       "      <td>0.0</td>\n",
       "      <td>0.0</td>\n",
       "      <td>0.0</td>\n",
       "      <td>0.0</td>\n",
       "      <td>0</td>\n",
       "    </tr>\n",
       "    <tr>\n",
       "      <th>3</th>\n",
       "      <td>192.168.10.5-23.61.187.27-50113-80-6</td>\n",
       "      <td>23.61.187.27</td>\n",
       "      <td>80.0</td>\n",
       "      <td>192.168.10.5</td>\n",
       "      <td>50113.0</td>\n",
       "      <td>6.0</td>\n",
       "      <td>03/07/2017 03:34:29</td>\n",
       "      <td>66.0</td>\n",
       "      <td>1.0</td>\n",
       "      <td>1.0</td>\n",
       "      <td>...</td>\n",
       "      <td>20.0</td>\n",
       "      <td>0.0</td>\n",
       "      <td>0.0</td>\n",
       "      <td>0.0</td>\n",
       "      <td>0.0</td>\n",
       "      <td>0.0</td>\n",
       "      <td>0.0</td>\n",
       "      <td>0.0</td>\n",
       "      <td>0.0</td>\n",
       "      <td>0</td>\n",
       "    </tr>\n",
       "    <tr>\n",
       "      <th>4</th>\n",
       "      <td>172.16.0.1-192.168.10.50-44526-80-6</td>\n",
       "      <td>172.16.0.1</td>\n",
       "      <td>44526.0</td>\n",
       "      <td>192.168.10.50</td>\n",
       "      <td>80.0</td>\n",
       "      <td>6.0</td>\n",
       "      <td>5/7/2017 10:58</td>\n",
       "      <td>4.0</td>\n",
       "      <td>2.0</td>\n",
       "      <td>0.0</td>\n",
       "      <td>...</td>\n",
       "      <td>32.0</td>\n",
       "      <td>0.0</td>\n",
       "      <td>0.0</td>\n",
       "      <td>0.0</td>\n",
       "      <td>0.0</td>\n",
       "      <td>0.0</td>\n",
       "      <td>0.0</td>\n",
       "      <td>0.0</td>\n",
       "      <td>0.0</td>\n",
       "      <td>1</td>\n",
       "    </tr>\n",
       "  </tbody>\n",
       "</table>\n",
       "<p>5 rows × 85 columns</p>\n",
       "</div>"
      ],
      "text/plain": [
       "                                  Flow ID      Source IP  Source Port  \\\n",
       "0  192.168.10.3-192.168.10.16-53-45506-17  192.168.10.16      45506.0   \n",
       "1     172.16.0.1-192.168.10.50-46298-80-6     172.16.0.1      46298.0   \n",
       "2   192.168.10.3-192.168.10.5-53-63360-17   192.168.10.5      63360.0   \n",
       "3    192.168.10.5-23.61.187.27-50113-80-6   23.61.187.27         80.0   \n",
       "4     172.16.0.1-192.168.10.50-44526-80-6     172.16.0.1      44526.0   \n",
       "\n",
       "  Destination IP  Destination Port  Protocol            Timestamp  \\\n",
       "0   192.168.10.3              53.0      17.0       7/7/2017 10:55   \n",
       "1  192.168.10.50              80.0       6.0       5/7/2017 10:44   \n",
       "2   192.168.10.3              53.0      17.0       7/7/2017 11:51   \n",
       "3   192.168.10.5           50113.0       6.0  03/07/2017 03:34:29   \n",
       "4  192.168.10.50              80.0       6.0       5/7/2017 10:58   \n",
       "\n",
       "   Flow Duration  Total Fwd Packets  Total Backward Packets  ...  \\\n",
       "0        31087.0                2.0                     2.0  ...   \n",
       "1     98335726.0                8.0                     5.0  ...   \n",
       "2          222.0                2.0                     2.0  ...   \n",
       "3           66.0                1.0                     1.0  ...   \n",
       "4            4.0                2.0                     0.0  ...   \n",
       "\n",
       "   min_seg_size_forward  Active Mean  Active Std  Active Max  Active Min  \\\n",
       "0                  32.0          0.0         0.0         0.0         0.0   \n",
       "1                  32.0       1008.0         0.0      1008.0      1008.0   \n",
       "2                  32.0          0.0         0.0         0.0         0.0   \n",
       "3                  20.0          0.0         0.0         0.0         0.0   \n",
       "4                  32.0          0.0         0.0         0.0         0.0   \n",
       "\n",
       "    Idle Mean  Idle Std    Idle Max    Idle Min  Label  \n",
       "0         0.0       0.0         0.0         0.0      0  \n",
       "1  98300000.0       0.0  98300000.0  98300000.0      1  \n",
       "2         0.0       0.0         0.0         0.0      0  \n",
       "3         0.0       0.0         0.0         0.0      0  \n",
       "4         0.0       0.0         0.0         0.0      1  \n",
       "\n",
       "[5 rows x 85 columns]"
      ]
     },
     "execution_count": 3,
     "metadata": {},
     "output_type": "execute_result"
    }
   ],
   "source": [
    "df.head()"
   ]
  },
  {
   "cell_type": "code",
   "execution_count": 4,
   "id": "bb75977d",
   "metadata": {},
   "outputs": [],
   "source": [
    "def preprossening_all(df , im_feature):\n",
    "    df_new = df.drop(['Bwd PSH Flags' ,'Bwd URG Flags', 'Fwd Avg Bytes/Bulk' , 'Fwd Avg Packets/Bulk',\n",
    "                        'Bwd Avg Bytes/Bulk' , 'Bwd Avg Packets/Bulk',\n",
    "                          'Flow ID', 'Source IP', 'Source Port',\n",
    "                           'Destination IP', 'Destination Port', \n",
    "                          'Protocol', 'Timestamp','Fwd Avg Bulk Rate', 'Bwd Avg Bulk Rate'], axis=1)\n",
    "    \n",
    "    df_clean = df_new.replace([np.inf, -np.inf], np.nan).dropna(axis=0)\n",
    "   \n",
    "    \n",
    "    df_im = df_clean[im_feature]\n",
    "    df_im['Label'] = df_clean.Label\n",
    "    \n",
    "    return df_im \n",
    "    "
   ]
  },
  {
   "cell_type": "code",
   "execution_count": 5,
   "id": "979c6024",
   "metadata": {},
   "outputs": [],
   "source": [
    "im_feature = ['PSH Flag Count','Init_Win_bytes_forward','Bwd Packet Length Std','Avg Bwd Segment Size',\n",
    "                'Bwd Packet Length Max','Packet Length Variance','Bwd Packet Length Mean','Bwd Packet Length Min','Packet Length Std',\n",
    "                'min_seg_size_forward','Average Packet Size','Flow IAT Max','Fwd IAT Std','Idle Min','Packet Length Mean',\n",
    "                  'Fwd IAT Max','Idle Max','ACK Flag Count','Flow IAT Std','URG Flag Count']"
   ]
  },
  {
   "cell_type": "code",
   "execution_count": 6,
   "id": "27b04625",
   "metadata": {},
   "outputs": [
    {
     "name": "stderr",
     "output_type": "stream",
     "text": [
      "C:\\Users\\Ekhlas\\AppData\\Local\\Temp\\ipykernel_11936\\2919573445.py:11: SettingWithCopyWarning: \n",
      "A value is trying to be set on a copy of a slice from a DataFrame.\n",
      "Try using .loc[row_indexer,col_indexer] = value instead\n",
      "\n",
      "See the caveats in the documentation: https://pandas.pydata.org/pandas-docs/stable/user_guide/indexing.html#returning-a-view-versus-a-copy\n",
      "  df_im['Label'] = df_clean.Label\n"
     ]
    }
   ],
   "source": [
    "df_final = preprossening_all(df, im_feature)"
   ]
  },
  {
   "cell_type": "code",
   "execution_count": 16,
   "id": "34f14b56",
   "metadata": {},
   "outputs": [
    {
     "data": {
      "text/html": [
       "<div>\n",
       "<style scoped>\n",
       "    .dataframe tbody tr th:only-of-type {\n",
       "        vertical-align: middle;\n",
       "    }\n",
       "\n",
       "    .dataframe tbody tr th {\n",
       "        vertical-align: top;\n",
       "    }\n",
       "\n",
       "    .dataframe thead th {\n",
       "        text-align: right;\n",
       "    }\n",
       "</style>\n",
       "<table border=\"1\" class=\"dataframe\">\n",
       "  <thead>\n",
       "    <tr style=\"text-align: right;\">\n",
       "      <th></th>\n",
       "      <th>PSH Flag Count</th>\n",
       "      <th>Init_Win_bytes_forward</th>\n",
       "      <th>Bwd Packet Length Std</th>\n",
       "      <th>Avg Bwd Segment Size</th>\n",
       "      <th>Bwd Packet Length Max</th>\n",
       "      <th>Packet Length Variance</th>\n",
       "      <th>Bwd Packet Length Mean</th>\n",
       "      <th>Bwd Packet Length Min</th>\n",
       "      <th>Packet Length Std</th>\n",
       "      <th>min_seg_size_forward</th>\n",
       "      <th>...</th>\n",
       "      <th>Flow IAT Max</th>\n",
       "      <th>Fwd IAT Std</th>\n",
       "      <th>Idle Min</th>\n",
       "      <th>Packet Length Mean</th>\n",
       "      <th>Fwd IAT Max</th>\n",
       "      <th>Idle Max</th>\n",
       "      <th>ACK Flag Count</th>\n",
       "      <th>Flow IAT Std</th>\n",
       "      <th>URG Flag Count</th>\n",
       "      <th>Label</th>\n",
       "    </tr>\n",
       "  </thead>\n",
       "  <tbody>\n",
       "    <tr>\n",
       "      <th>0</th>\n",
       "      <td>0.0</td>\n",
       "      <td>-1.0</td>\n",
       "      <td>0.00000</td>\n",
       "      <td>112.0</td>\n",
       "      <td>112.0</td>\n",
       "      <td>1968.300</td>\n",
       "      <td>112.0</td>\n",
       "      <td>112.0</td>\n",
       "      <td>44.365527</td>\n",
       "      <td>32.0</td>\n",
       "      <td>...</td>\n",
       "      <td>31027.0</td>\n",
       "      <td>0.0</td>\n",
       "      <td>0.0</td>\n",
       "      <td>63.400000</td>\n",
       "      <td>11.0</td>\n",
       "      <td>0.0</td>\n",
       "      <td>0.0</td>\n",
       "      <td>1.789614e+04</td>\n",
       "      <td>0.0</td>\n",
       "      <td>0</td>\n",
       "    </tr>\n",
       "    <tr>\n",
       "      <th>1</th>\n",
       "      <td>0.0</td>\n",
       "      <td>274.0</td>\n",
       "      <td>4420.67608</td>\n",
       "      <td>2319.0</td>\n",
       "      <td>10147.0</td>\n",
       "      <td>7307326.181</td>\n",
       "      <td>2319.0</td>\n",
       "      <td>0.0</td>\n",
       "      <td>2703.206648</td>\n",
       "      <td>32.0</td>\n",
       "      <td>...</td>\n",
       "      <td>98300000.0</td>\n",
       "      <td>37200000.0</td>\n",
       "      <td>98300000.0</td>\n",
       "      <td>852.785714</td>\n",
       "      <td>98300000.0</td>\n",
       "      <td>98300000.0</td>\n",
       "      <td>1.0</td>\n",
       "      <td>2.840000e+07</td>\n",
       "      <td>0.0</td>\n",
       "      <td>1</td>\n",
       "    </tr>\n",
       "    <tr>\n",
       "      <th>2</th>\n",
       "      <td>0.0</td>\n",
       "      <td>-1.0</td>\n",
       "      <td>0.00000</td>\n",
       "      <td>166.0</td>\n",
       "      <td>166.0</td>\n",
       "      <td>4915.200</td>\n",
       "      <td>166.0</td>\n",
       "      <td>166.0</td>\n",
       "      <td>70.108487</td>\n",
       "      <td>32.0</td>\n",
       "      <td>...</td>\n",
       "      <td>216.0</td>\n",
       "      <td>0.0</td>\n",
       "      <td>0.0</td>\n",
       "      <td>89.200000</td>\n",
       "      <td>3.0</td>\n",
       "      <td>0.0</td>\n",
       "      <td>0.0</td>\n",
       "      <td>1.229756e+02</td>\n",
       "      <td>0.0</td>\n",
       "      <td>0</td>\n",
       "    </tr>\n",
       "    <tr>\n",
       "      <th>3</th>\n",
       "      <td>0.0</td>\n",
       "      <td>913.0</td>\n",
       "      <td>0.00000</td>\n",
       "      <td>6.0</td>\n",
       "      <td>6.0</td>\n",
       "      <td>0.000</td>\n",
       "      <td>6.0</td>\n",
       "      <td>6.0</td>\n",
       "      <td>0.000000</td>\n",
       "      <td>20.0</td>\n",
       "      <td>...</td>\n",
       "      <td>66.0</td>\n",
       "      <td>0.0</td>\n",
       "      <td>0.0</td>\n",
       "      <td>6.000000</td>\n",
       "      <td>0.0</td>\n",
       "      <td>0.0</td>\n",
       "      <td>1.0</td>\n",
       "      <td>0.000000e+00</td>\n",
       "      <td>1.0</td>\n",
       "      <td>0</td>\n",
       "    </tr>\n",
       "    <tr>\n",
       "      <th>4</th>\n",
       "      <td>0.0</td>\n",
       "      <td>274.0</td>\n",
       "      <td>0.00000</td>\n",
       "      <td>0.0</td>\n",
       "      <td>0.0</td>\n",
       "      <td>0.000</td>\n",
       "      <td>0.0</td>\n",
       "      <td>0.0</td>\n",
       "      <td>0.000000</td>\n",
       "      <td>32.0</td>\n",
       "      <td>...</td>\n",
       "      <td>4.0</td>\n",
       "      <td>0.0</td>\n",
       "      <td>0.0</td>\n",
       "      <td>0.000000</td>\n",
       "      <td>4.0</td>\n",
       "      <td>0.0</td>\n",
       "      <td>1.0</td>\n",
       "      <td>0.000000e+00</td>\n",
       "      <td>0.0</td>\n",
       "      <td>1</td>\n",
       "    </tr>\n",
       "    <tr>\n",
       "      <th>...</th>\n",
       "      <td>...</td>\n",
       "      <td>...</td>\n",
       "      <td>...</td>\n",
       "      <td>...</td>\n",
       "      <td>...</td>\n",
       "      <td>...</td>\n",
       "      <td>...</td>\n",
       "      <td>...</td>\n",
       "      <td>...</td>\n",
       "      <td>...</td>\n",
       "      <td>...</td>\n",
       "      <td>...</td>\n",
       "      <td>...</td>\n",
       "      <td>...</td>\n",
       "      <td>...</td>\n",
       "      <td>...</td>\n",
       "      <td>...</td>\n",
       "      <td>...</td>\n",
       "      <td>...</td>\n",
       "      <td>...</td>\n",
       "      <td>...</td>\n",
       "    </tr>\n",
       "    <tr>\n",
       "      <th>3119339</th>\n",
       "      <td>0.0</td>\n",
       "      <td>296.0</td>\n",
       "      <td>0.00000</td>\n",
       "      <td>0.0</td>\n",
       "      <td>0.0</td>\n",
       "      <td>0.000</td>\n",
       "      <td>0.0</td>\n",
       "      <td>0.0</td>\n",
       "      <td>0.000000</td>\n",
       "      <td>32.0</td>\n",
       "      <td>...</td>\n",
       "      <td>3.0</td>\n",
       "      <td>0.0</td>\n",
       "      <td>0.0</td>\n",
       "      <td>0.000000</td>\n",
       "      <td>3.0</td>\n",
       "      <td>0.0</td>\n",
       "      <td>1.0</td>\n",
       "      <td>0.000000e+00</td>\n",
       "      <td>0.0</td>\n",
       "      <td>1</td>\n",
       "    </tr>\n",
       "    <tr>\n",
       "      <th>3119340</th>\n",
       "      <td>0.0</td>\n",
       "      <td>-1.0</td>\n",
       "      <td>0.00000</td>\n",
       "      <td>51.0</td>\n",
       "      <td>51.0</td>\n",
       "      <td>76.800</td>\n",
       "      <td>51.0</td>\n",
       "      <td>51.0</td>\n",
       "      <td>8.763561</td>\n",
       "      <td>32.0</td>\n",
       "      <td>...</td>\n",
       "      <td>173.0</td>\n",
       "      <td>0.0</td>\n",
       "      <td>0.0</td>\n",
       "      <td>41.400000</td>\n",
       "      <td>1.0</td>\n",
       "      <td>0.0</td>\n",
       "      <td>0.0</td>\n",
       "      <td>8.889882e+01</td>\n",
       "      <td>0.0</td>\n",
       "      <td>0</td>\n",
       "    </tr>\n",
       "    <tr>\n",
       "      <th>3119341</th>\n",
       "      <td>0.0</td>\n",
       "      <td>-1.0</td>\n",
       "      <td>0.00000</td>\n",
       "      <td>122.0</td>\n",
       "      <td>122.0</td>\n",
       "      <td>2352.000</td>\n",
       "      <td>122.0</td>\n",
       "      <td>122.0</td>\n",
       "      <td>48.497423</td>\n",
       "      <td>20.0</td>\n",
       "      <td>...</td>\n",
       "      <td>30445.0</td>\n",
       "      <td>0.0</td>\n",
       "      <td>0.0</td>\n",
       "      <td>66.000000</td>\n",
       "      <td>0.0</td>\n",
       "      <td>0.0</td>\n",
       "      <td>0.0</td>\n",
       "      <td>0.000000e+00</td>\n",
       "      <td>0.0</td>\n",
       "      <td>0</td>\n",
       "    </tr>\n",
       "    <tr>\n",
       "      <th>3119343</th>\n",
       "      <td>0.0</td>\n",
       "      <td>274.0</td>\n",
       "      <td>0.00000</td>\n",
       "      <td>0.0</td>\n",
       "      <td>0.0</td>\n",
       "      <td>0.000</td>\n",
       "      <td>0.0</td>\n",
       "      <td>0.0</td>\n",
       "      <td>0.000000</td>\n",
       "      <td>32.0</td>\n",
       "      <td>...</td>\n",
       "      <td>998.0</td>\n",
       "      <td>0.0</td>\n",
       "      <td>0.0</td>\n",
       "      <td>0.000000</td>\n",
       "      <td>998.0</td>\n",
       "      <td>0.0</td>\n",
       "      <td>1.0</td>\n",
       "      <td>0.000000e+00</td>\n",
       "      <td>0.0</td>\n",
       "      <td>1</td>\n",
       "    </tr>\n",
       "    <tr>\n",
       "      <th>3119344</th>\n",
       "      <td>0.0</td>\n",
       "      <td>-1.0</td>\n",
       "      <td>0.00000</td>\n",
       "      <td>190.0</td>\n",
       "      <td>190.0</td>\n",
       "      <td>7489.200</td>\n",
       "      <td>190.0</td>\n",
       "      <td>190.0</td>\n",
       "      <td>86.540164</td>\n",
       "      <td>20.0</td>\n",
       "      <td>...</td>\n",
       "      <td>228.0</td>\n",
       "      <td>0.0</td>\n",
       "      <td>0.0</td>\n",
       "      <td>95.200000</td>\n",
       "      <td>3.0</td>\n",
       "      <td>0.0</td>\n",
       "      <td>0.0</td>\n",
       "      <td>1.296161e+02</td>\n",
       "      <td>0.0</td>\n",
       "      <td>0</td>\n",
       "    </tr>\n",
       "  </tbody>\n",
       "</table>\n",
       "<p>2827876 rows × 21 columns</p>\n",
       "</div>"
      ],
      "text/plain": [
       "         PSH Flag Count  Init_Win_bytes_forward  Bwd Packet Length Std  \\\n",
       "0                   0.0                    -1.0                0.00000   \n",
       "1                   0.0                   274.0             4420.67608   \n",
       "2                   0.0                    -1.0                0.00000   \n",
       "3                   0.0                   913.0                0.00000   \n",
       "4                   0.0                   274.0                0.00000   \n",
       "...                 ...                     ...                    ...   \n",
       "3119339             0.0                   296.0                0.00000   \n",
       "3119340             0.0                    -1.0                0.00000   \n",
       "3119341             0.0                    -1.0                0.00000   \n",
       "3119343             0.0                   274.0                0.00000   \n",
       "3119344             0.0                    -1.0                0.00000   \n",
       "\n",
       "         Avg Bwd Segment Size  Bwd Packet Length Max  Packet Length Variance  \\\n",
       "0                       112.0                  112.0                1968.300   \n",
       "1                      2319.0                10147.0             7307326.181   \n",
       "2                       166.0                  166.0                4915.200   \n",
       "3                         6.0                    6.0                   0.000   \n",
       "4                         0.0                    0.0                   0.000   \n",
       "...                       ...                    ...                     ...   \n",
       "3119339                   0.0                    0.0                   0.000   \n",
       "3119340                  51.0                   51.0                  76.800   \n",
       "3119341                 122.0                  122.0                2352.000   \n",
       "3119343                   0.0                    0.0                   0.000   \n",
       "3119344                 190.0                  190.0                7489.200   \n",
       "\n",
       "         Bwd Packet Length Mean  Bwd Packet Length Min  Packet Length Std  \\\n",
       "0                         112.0                  112.0          44.365527   \n",
       "1                        2319.0                    0.0        2703.206648   \n",
       "2                         166.0                  166.0          70.108487   \n",
       "3                           6.0                    6.0           0.000000   \n",
       "4                           0.0                    0.0           0.000000   \n",
       "...                         ...                    ...                ...   \n",
       "3119339                     0.0                    0.0           0.000000   \n",
       "3119340                    51.0                   51.0           8.763561   \n",
       "3119341                   122.0                  122.0          48.497423   \n",
       "3119343                     0.0                    0.0           0.000000   \n",
       "3119344                   190.0                  190.0          86.540164   \n",
       "\n",
       "         min_seg_size_forward  ...  Flow IAT Max  Fwd IAT Std    Idle Min  \\\n",
       "0                        32.0  ...       31027.0          0.0         0.0   \n",
       "1                        32.0  ...    98300000.0   37200000.0  98300000.0   \n",
       "2                        32.0  ...         216.0          0.0         0.0   \n",
       "3                        20.0  ...          66.0          0.0         0.0   \n",
       "4                        32.0  ...           4.0          0.0         0.0   \n",
       "...                       ...  ...           ...          ...         ...   \n",
       "3119339                  32.0  ...           3.0          0.0         0.0   \n",
       "3119340                  32.0  ...         173.0          0.0         0.0   \n",
       "3119341                  20.0  ...       30445.0          0.0         0.0   \n",
       "3119343                  32.0  ...         998.0          0.0         0.0   \n",
       "3119344                  20.0  ...         228.0          0.0         0.0   \n",
       "\n",
       "         Packet Length Mean  Fwd IAT Max    Idle Max  ACK Flag Count  \\\n",
       "0                 63.400000         11.0         0.0             0.0   \n",
       "1                852.785714   98300000.0  98300000.0             1.0   \n",
       "2                 89.200000          3.0         0.0             0.0   \n",
       "3                  6.000000          0.0         0.0             1.0   \n",
       "4                  0.000000          4.0         0.0             1.0   \n",
       "...                     ...          ...         ...             ...   \n",
       "3119339            0.000000          3.0         0.0             1.0   \n",
       "3119340           41.400000          1.0         0.0             0.0   \n",
       "3119341           66.000000          0.0         0.0             0.0   \n",
       "3119343            0.000000        998.0         0.0             1.0   \n",
       "3119344           95.200000          3.0         0.0             0.0   \n",
       "\n",
       "         Flow IAT Std  URG Flag Count  Label  \n",
       "0        1.789614e+04             0.0      0  \n",
       "1        2.840000e+07             0.0      1  \n",
       "2        1.229756e+02             0.0      0  \n",
       "3        0.000000e+00             1.0      0  \n",
       "4        0.000000e+00             0.0      1  \n",
       "...               ...             ...    ...  \n",
       "3119339  0.000000e+00             0.0      1  \n",
       "3119340  8.889882e+01             0.0      0  \n",
       "3119341  0.000000e+00             0.0      0  \n",
       "3119343  0.000000e+00             0.0      1  \n",
       "3119344  1.296161e+02             0.0      0  \n",
       "\n",
       "[2827876 rows x 21 columns]"
      ]
     },
     "execution_count": 16,
     "metadata": {},
     "output_type": "execute_result"
    }
   ],
   "source": [
    "df_final"
   ]
  },
  {
   "cell_type": "code",
   "execution_count": 8,
   "id": "c21bf7af",
   "metadata": {},
   "outputs": [],
   "source": [
    "sampledf = df_final.sample(n=50000,random_state=42)"
   ]
  },
  {
   "cell_type": "markdown",
   "id": "c2a5e85a",
   "metadata": {},
   "source": [
    "# functions\n"
   ]
  },
  {
   "cell_type": "markdown",
   "id": "5cd39c2e",
   "metadata": {},
   "source": [
    "## Split"
   ]
  },
  {
   "cell_type": "code",
   "execution_count": 9,
   "id": "e48a94d7",
   "metadata": {},
   "outputs": [],
   "source": [
    "X = sampledf.iloc[:,:-1]\n",
    "y = sampledf.iloc[:,-1]\n",
    "X_train, X_test, y_train, y_test = train_test_split(X, y, test_size=0.3, random_state=1) "
   ]
  },
  {
   "cell_type": "markdown",
   "id": "78915b32",
   "metadata": {},
   "source": [
    "## Modeling"
   ]
  },
  {
   "cell_type": "code",
   "execution_count": 10,
   "id": "4e5d59ab",
   "metadata": {},
   "outputs": [],
   "source": [
    "\n",
    "\n",
    "def model_metrics(model, X_train, X_valid, y_train, y_valid):\n",
    "    time1 = time.time()\n",
    "#     model = RandomForestClassifier(n_estimators=100, random_state=0)\n",
    "    model.fit(X_train, y_train)\n",
    "    print('Training Time:', time.time() - time1)\n",
    "        \n",
    "    time2 = time.time()\n",
    "    preds = model.predict(X_valid)\n",
    "    print('validation Time:', time.time() - time2)\n",
    "        \n",
    "    calculate_metrics(y_valid, preds)\n",
    "    print()\n",
    "    print(classification_report(y_test, preds))\n",
    "    print()\n",
    "#     confusion_matrix = confusion_matrix(y_test, preds)\n",
    "    ConfusionMatrixDisplay(confusion_matrix(y_test, preds), display_labels = model.classes_).plot()\n",
    "    print()\n",
    "    return model\n",
    "\n",
    "def calculate_metrics(y_true, y_pred):\n",
    "    print()\n",
    "    print('Accuracy:', accuracy_score(y_true, y_pred))\n",
    "    print('Precision:', precision_score(y_true, y_pred))\n",
    "    print('Recall:', recall_score(y_true, y_pred))\n",
    "    print('f1 score:', f1_score(y_true, y_pred))\n",
    "    print()\n",
    "    \n"
   ]
  },
  {
   "cell_type": "markdown",
   "id": "5a3a8e73",
   "metadata": {},
   "source": [
    "### random forst classifier"
   ]
  },
  {
   "cell_type": "code",
   "execution_count": 14,
   "id": "93d39bcf",
   "metadata": {},
   "outputs": [],
   "source": [
    "\n",
    "rf_model = RandomForestClassifier(n_estimators=100, random_state=0)"
   ]
  },
  {
   "cell_type": "code",
   "execution_count": 15,
   "id": "452bc3bd",
   "metadata": {},
   "outputs": [
    {
     "name": "stdout",
     "output_type": "stream",
     "text": [
      "Training Time: 2.504460096359253\n",
      "validation Time: 0.10937309265136719\n",
      "\n",
      "Accuracy: 0.9961333333333333\n",
      "Precision: 0.9909487093530004\n",
      "Recall: 0.9896216940073652\n",
      "f1 score: 0.9902847571189279\n",
      "\n",
      "\n",
      "              precision    recall  f1-score   support\n",
      "\n",
      "           0       1.00      1.00      1.00     12013\n",
      "           1       0.99      0.99      0.99      2987\n",
      "\n",
      "    accuracy                           1.00     15000\n",
      "   macro avg       0.99      0.99      0.99     15000\n",
      "weighted avg       1.00      1.00      1.00     15000\n",
      "\n",
      "\n",
      "\n"
     ]
    },
    {
     "data": {
      "text/plain": [
       "RandomForestClassifier(random_state=0)"
      ]
     },
     "execution_count": 15,
     "metadata": {},
     "output_type": "execute_result"
    },
    {
     "data": {
      "image/png": "[encoded data removed]",
      "text/plain": [
       "<Figure size 432x288 with 2 Axes>"
      ]
     },
     "metadata": {
      "needs_background": "light"
     },
     "output_type": "display_data"
    }
   ],
   "source": [
    "model_metrics(rf_model, X_train, X_test, y_train, y_test)"
   ]
  },
  {
   "cell_type": "markdown",
   "id": "974eb440",
   "metadata": {},
   "source": [
    "### GaussianNB"
   ]
  },
  {
   "cell_type": "code",
   "execution_count": 17,
   "id": "2ef0b8c2",
   "metadata": {},
   "outputs": [],
   "source": [
    "\n",
    "gnb_model = GaussianNB()"
   ]
  },
  {
   "cell_type": "code",
   "execution_count": 18,
   "id": "9d26539e",
   "metadata": {},
   "outputs": [
    {
     "name": "stdout",
     "output_type": "stream",
     "text": [
      "Training Time: 0.018001794815063477\n",
      "validation Time: 0.008030891418457031\n",
      "\n",
      "Accuracy: 0.8522\n",
      "Precision: 0.7024185068349106\n",
      "Recall: 0.4472715098761299\n",
      "f1 score: 0.5465330333401515\n",
      "\n",
      "\n",
      "              precision    recall  f1-score   support\n",
      "\n",
      "           0       0.87      0.95      0.91     12013\n",
      "           1       0.70      0.45      0.55      2987\n",
      "\n",
      "    accuracy                           0.85     15000\n",
      "   macro avg       0.79      0.70      0.73     15000\n",
      "weighted avg       0.84      0.85      0.84     15000\n",
      "\n",
      "\n",
      "\n"
     ]
    },
    {
     "data": {
      "text/plain": [
       "GaussianNB()"
      ]
     },
     "execution_count": 18,
     "metadata": {},
     "output_type": "execute_result"
    },
    {
     "data": {
      "image/png": "[encoded data removed]",
      "text/plain": [
       "<Figure size 432x288 with 2 Axes>"
      ]
     },
     "metadata": {
      "needs_background": "light"
     },
     "output_type": "display_data"
    }
   ],
   "source": [
    "model_metrics(gnb_model, X_train, X_test, y_train, y_test)"
   ]
  },
  {
   "cell_type": "markdown",
   "id": "9dcf617f",
   "metadata": {},
   "source": [
    "### BaggingClassifier on gnb"
   ]
  },
  {
   "cell_type": "code",
   "execution_count": 19,
   "id": "f6722427",
   "metadata": {},
   "outputs": [
    {
     "name": "stdout",
     "output_type": "stream",
     "text": [
      "Training Time: 0.27309250831604004\n",
      "validation Time: 0.031249523162841797\n",
      "\n",
      "Accuracy: 0.8502\n",
      "Precision: 0.6911157024793388\n",
      "Recall: 0.44794107800468697\n",
      "f1 score: 0.5435709932967703\n",
      "\n",
      "\n",
      "              precision    recall  f1-score   support\n",
      "\n",
      "           0       0.87      0.95      0.91     12013\n",
      "           1       0.69      0.45      0.54      2987\n",
      "\n",
      "    accuracy                           0.85     15000\n",
      "   macro avg       0.78      0.70      0.73     15000\n",
      "weighted avg       0.84      0.85      0.84     15000\n",
      "\n",
      "\n",
      "\n"
     ]
    },
    {
     "data": {
      "text/plain": [
       "BaggingClassifier(base_estimator=GaussianNB(), max_features=0.5,\n",
       "                  max_samples=0.5)"
      ]
     },
     "execution_count": 19,
     "metadata": {},
     "output_type": "execute_result"
    },
    {
     "data": {
      "image/png": "[encoded data removed]",
      "text/plain": [
       "<Figure size 432x288 with 2 Axes>"
      ]
     },
     "metadata": {
      "needs_background": "light"
     },
     "output_type": "display_data"
    }
   ],
   "source": [
    "\n",
    "bagging_gnb_model = BaggingClassifier(gnb_model,\n",
    "                            max_samples=0.5, max_features=0.5)\n",
    "model_metrics(bagging_gnb_model, X_train, X_test, y_train, y_test)"
   ]
  },
  {
   "cell_type": "markdown",
   "id": "4ef60e50",
   "metadata": {},
   "source": [
    "### ada boost classifier on GNB"
   ]
  },
  {
   "cell_type": "code",
   "execution_count": 21,
   "id": "7a6591f2",
   "metadata": {},
   "outputs": [
    {
     "name": "stdout",
     "output_type": "stream",
     "text": [
      "Training Time: 2.18595814704895\n",
      "validation Time: 0.37162065505981445\n",
      "\n",
      "Accuracy: 0.2876666666666667\n",
      "Precision: 0.126238104486308\n",
      "Recall: 0.43521928356210243\n",
      "f1 score: 0.19570944674444865\n",
      "\n",
      "\n",
      "              precision    recall  f1-score   support\n",
      "\n",
      "           0       0.64      0.25      0.36     12013\n",
      "           1       0.13      0.44      0.20      2987\n",
      "\n",
      "    accuracy                           0.29     15000\n",
      "   macro avg       0.38      0.34      0.28     15000\n",
      "weighted avg       0.54      0.29      0.33     15000\n",
      "\n",
      "\n",
      "\n"
     ]
    },
    {
     "data": {
      "text/plain": [
       "AdaBoostClassifier(base_estimator=GaussianNB(), random_state=0)"
      ]
     },
     "execution_count": 21,
     "metadata": {},
     "output_type": "execute_result"
    },
    {
     "data": {
      "image/png": "[encoded data removed]",
      "text/plain": [
       "<Figure size 432x288 with 2 Axes>"
      ]
     },
     "metadata": {
      "needs_background": "light"
     },
     "output_type": "display_data"
    }
   ],
   "source": [
    "\n",
    "boost_gnb_model = AdaBoostClassifier(base_estimator=gnb_model, n_estimators=50, random_state=0)\n",
    "model_metrics(boost_gnb_model, X_train, X_test, y_train, y_test)"
   ]
  },
  {
   "cell_type": "markdown",
   "id": "2d8103df",
   "metadata": {},
   "source": [
    "### KNN CLASSIFIER"
   ]
  },
  {
   "cell_type": "code",
   "execution_count": 23,
   "id": "e149923f",
   "metadata": {},
   "outputs": [
    {
     "name": "stdout",
     "output_type": "stream",
     "text": [
      "Training Time: 0.0040013790130615234\n",
      "validation Time: 10.024909019470215\n",
      "\n",
      "Accuracy: 0.9812666666666666\n",
      "Precision: 0.941579634464752\n",
      "Recall: 0.9658520254435888\n",
      "f1 score: 0.9535613948107751\n",
      "\n",
      "\n",
      "              precision    recall  f1-score   support\n",
      "\n",
      "           0       0.99      0.99      0.99     12013\n",
      "           1       0.94      0.97      0.95      2987\n",
      "\n",
      "    accuracy                           0.98     15000\n",
      "   macro avg       0.97      0.98      0.97     15000\n",
      "weighted avg       0.98      0.98      0.98     15000\n",
      "\n",
      "\n",
      "\n"
     ]
    },
    {
     "data": {
      "text/plain": [
       "KNeighborsClassifier()"
      ]
     },
     "execution_count": 23,
     "metadata": {},
     "output_type": "execute_result"
    },
    {
     "data": {
      "image/png": "[encoded data removed]",
      "text/plain": [
       "<Figure size 432x288 with 2 Axes>"
      ]
     },
     "metadata": {
      "needs_background": "light"
     },
     "output_type": "display_data"
    }
   ],
   "source": [
    "from sklearn.neighbors import KNeighborsClassifier\n",
    "knn_model = KNeighborsClassifier(n_neighbors=5)\n",
    "model_metrics(knn_model, X_train, X_test, y_train, y_test)"
   ]
  },
  {
   "cell_type": "markdown",
   "id": "80438974",
   "metadata": {},
   "source": [
    "### bagging on KNN"
   ]
  },
  {
   "cell_type": "code",
   "execution_count": 24,
   "id": "0af6a213",
   "metadata": {},
   "outputs": [
    {
     "name": "stdout",
     "output_type": "stream",
     "text": [
      "Training Time: 0.6224238872528076\n",
      "validation Time: 2.0630457401275635\n",
      "\n",
      "Accuracy: 0.9798\n",
      "Precision: 0.9586466165413534\n",
      "Recall: 0.9390693003013056\n",
      "f1 score: 0.9487569761542365\n",
      "\n",
      "\n",
      "              precision    recall  f1-score   support\n",
      "\n",
      "           0       0.98      0.99      0.99     12013\n",
      "           1       0.96      0.94      0.95      2987\n",
      "\n",
      "    accuracy                           0.98     15000\n",
      "   macro avg       0.97      0.96      0.97     15000\n",
      "weighted avg       0.98      0.98      0.98     15000\n",
      "\n",
      "\n",
      "\n"
     ]
    },
    {
     "data": {
      "text/plain": [
       "BaggingClassifier(base_estimator=KNeighborsClassifier(), max_features=0.5,\n",
       "                  max_samples=0.5)"
      ]
     },
     "execution_count": 24,
     "metadata": {},
     "output_type": "execute_result"
    },
    {
     "data": {
      "image/png": "[encoded data removed]",
      "text/plain": [
       "<Figure size 432x288 with 2 Axes>"
      ]
     },
     "metadata": {
      "needs_background": "light"
     },
     "output_type": "display_data"
    }
   ],
   "source": [
    "from sklearn.ensemble import BaggingClassifier\n",
    "bagging_knn_model = BaggingClassifier(knn_model,\n",
    "                            max_samples=0.5, max_features=0.5)\n",
    "model_metrics(bagging_knn_model, X_train, X_test, y_train, y_test)"
   ]
  },
  {
   "cell_type": "markdown",
   "id": "967975b1",
   "metadata": {},
   "source": [
    "### decision tree classifier"
   ]
  },
  {
   "cell_type": "code",
   "execution_count": 25,
   "id": "f86a0651",
   "metadata": {},
   "outputs": [
    {
     "name": "stdout",
     "output_type": "stream",
     "text": [
      "Training Time: 0.18389081954956055\n",
      "validation Time: 0.0\n",
      "\n",
      "Accuracy: 0.9947333333333334\n",
      "Precision: 0.9836992681304059\n",
      "Recall: 0.9899564780716438\n",
      "f1 score: 0.9868179542799933\n",
      "\n",
      "\n",
      "              precision    recall  f1-score   support\n",
      "\n",
      "           0       1.00      1.00      1.00     12013\n",
      "           1       0.98      0.99      0.99      2987\n",
      "\n",
      "    accuracy                           0.99     15000\n",
      "   macro avg       0.99      0.99      0.99     15000\n",
      "weighted avg       0.99      0.99      0.99     15000\n",
      "\n",
      "\n",
      "\n"
     ]
    },
    {
     "data": {
      "text/plain": [
       "DecisionTreeClassifier()"
      ]
     },
     "execution_count": 25,
     "metadata": {},
     "output_type": "execute_result"
    },
    {
     "data": {
      "image/png": "[encoded data removed]",
      "text/plain": [
       "<Figure size 432x288 with 2 Axes>"
      ]
     },
     "metadata": {
      "needs_background": "light"
     },
     "output_type": "display_data"
    }
   ],
   "source": [
    "from sklearn import tree\n",
    "tree_model = tree.DecisionTreeClassifier()\n",
    "model_metrics(tree_model, X_train, X_test, y_train, y_test)"
   ]
  },
  {
   "cell_type": "markdown",
   "id": "be97e787",
   "metadata": {},
   "source": [
    "### bagging on decision tree"
   ]
  },
  {
   "cell_type": "code",
   "execution_count": 26,
   "id": "421903f6",
   "metadata": {},
   "outputs": [
    {
     "name": "stdout",
     "output_type": "stream",
     "text": [
      "Training Time: 0.36179637908935547\n",
      "validation Time: 0.01563262939453125\n",
      "\n",
      "Accuracy: 0.9937333333333334\n",
      "Precision: 0.9911714770797962\n",
      "Recall: 0.9772346836290593\n",
      "f1 score: 0.9841537424140258\n",
      "\n",
      "\n",
      "              precision    recall  f1-score   support\n",
      "\n",
      "           0       0.99      1.00      1.00     12013\n",
      "           1       0.99      0.98      0.98      2987\n",
      "\n",
      "    accuracy                           0.99     15000\n",
      "   macro avg       0.99      0.99      0.99     15000\n",
      "weighted avg       0.99      0.99      0.99     15000\n",
      "\n",
      "\n",
      "\n"
     ]
    },
    {
     "data": {
      "text/plain": [
       "BaggingClassifier(base_estimator=DecisionTreeClassifier(), max_features=0.5,\n",
       "                  max_samples=0.5)"
      ]
     },
     "execution_count": 26,
     "metadata": {},
     "output_type": "execute_result"
    },
    {
     "data": {
      "image/png": "[encoded data removed]",
      "text/plain": [
       "<Figure size 432x288 with 2 Axes>"
      ]
     },
     "metadata": {
      "needs_background": "light"
     },
     "output_type": "display_data"
    }
   ],
   "source": [
    "from sklearn.ensemble import BaggingClassifier\n",
    "bagging_tree_model = BaggingClassifier(tree_model,\n",
    "                            max_samples=0.5, max_features=0.5)\n",
    "model_metrics(bagging_tree_model, X_train, X_test, y_train, y_test)"
   ]
  },
  {
   "cell_type": "code",
   "execution_count": null,
   "id": "3ed24476",
   "metadata": {},
   "outputs": [],
   "source": []
  },
  {
   "cell_type": "markdown",
   "id": "72e3a5f3",
   "metadata": {},
   "source": [
    "### ada boost on decition tree"
   ]
  },
  {
   "cell_type": "code",
   "execution_count": 27,
   "id": "2a0a22d7",
   "metadata": {},
   "outputs": [
    {
     "name": "stdout",
     "output_type": "stream",
     "text": [
      "Training Time: 6.337043762207031\n",
      "validation Time: 0.10938072204589844\n",
      "\n",
      "Accuracy: 0.9964\n",
      "Precision: 0.990304246071548\n",
      "Recall: 0.9916303983930365\n",
      "f1 score: 0.9909668785547006\n",
      "\n",
      "\n",
      "              precision    recall  f1-score   support\n",
      "\n",
      "           0       1.00      1.00      1.00     12013\n",
      "           1       0.99      0.99      0.99      2987\n",
      "\n",
      "    accuracy                           1.00     15000\n",
      "   macro avg       0.99      0.99      0.99     15000\n",
      "weighted avg       1.00      1.00      1.00     15000\n",
      "\n",
      "\n",
      "\n"
     ]
    },
    {
     "data": {
      "text/plain": [
       "AdaBoostClassifier(base_estimator=DecisionTreeClassifier(), random_state=0)"
      ]
     },
     "execution_count": 27,
     "metadata": {},
     "output_type": "execute_result"
    },
    {
     "data": {
      "image/png": "[encoded data removed]",
      "text/plain": [
       "<Figure size 432x288 with 2 Axes>"
      ]
     },
     "metadata": {
      "needs_background": "light"
     },
     "output_type": "display_data"
    }
   ],
   "source": [
    "\n",
    "boost_tree_model = AdaBoostClassifier(base_estimator=tree_model, n_estimators=50, random_state=0)\n",
    "model_metrics(boost_tree_model, X_train, X_test, y_train, y_test)"
   ]
  },
  {
   "cell_type": "markdown",
   "id": "55e3d5d9",
   "metadata": {},
   "source": [
    "### logistic regration\n"
   ]
  },
  {
   "cell_type": "code",
   "execution_count": 28,
   "id": "fd24da09",
   "metadata": {},
   "outputs": [
    {
     "name": "stdout",
     "output_type": "stream",
     "text": [
      "Training Time: 0.4729607105255127\n",
      "validation Time: 0.0\n",
      "\n",
      "Accuracy: 0.8214666666666667\n",
      "Precision: 0.5629841011006931\n",
      "Recall: 0.4623367927686642\n",
      "f1 score: 0.5077205882352941\n",
      "\n",
      "\n",
      "              precision    recall  f1-score   support\n",
      "\n",
      "           0       0.87      0.91      0.89     12013\n",
      "           1       0.56      0.46      0.51      2987\n",
      "\n",
      "    accuracy                           0.82     15000\n",
      "   macro avg       0.72      0.69      0.70     15000\n",
      "weighted avg       0.81      0.82      0.81     15000\n",
      "\n",
      "\n",
      "\n"
     ]
    },
    {
     "name": "stderr",
     "output_type": "stream",
     "text": [
      "C:\\Users\\Ekhlas\\AppData\\Local\\Programs\\Python\\Python310\\lib\\site-packages\\sklearn\\linear_model\\_logistic.py:814: ConvergenceWarning: lbfgs failed to converge (status=1):\n",
      "STOP: TOTAL NO. of ITERATIONS REACHED LIMIT.\n",
      "\n",
      "Increase the number of iterations (max_iter) or scale the data as shown in:\n",
      "    https://scikit-learn.org/stable/modules/preprocessing.html\n",
      "Please also refer to the documentation for alternative solver options:\n",
      "    https://scikit-learn.org/stable/modules/linear_model.html#logistic-regression\n",
      "  n_iter_i = _check_optimize_result(\n"
     ]
    },
    {
     "data": {
      "text/plain": [
       "LogisticRegression(random_state=0)"
      ]
     },
     "execution_count": 28,
     "metadata": {},
     "output_type": "execute_result"
    },
    {
     "data": {
      "image/png": "[encoded data removed]",
      "text/plain": [
       "<Figure size 432x288 with 2 Axes>"
      ]
     },
     "metadata": {
      "needs_background": "light"
     },
     "output_type": "display_data"
    }
   ],
   "source": [
    "# max_iter=100\n",
    "\n",
    "lg_model = LogisticRegression(max_iter=100, random_state=0)\n",
    "model_metrics(lg_model, X_train, X_test, y_train, y_test)"
   ]
  },
  {
   "cell_type": "markdown",
   "id": "49814714",
   "metadata": {},
   "source": [
    "### bagging on logistig"
   ]
  },
  {
   "cell_type": "code",
   "execution_count": 29,
   "id": "9f4e0ed1",
   "metadata": {
    "scrolled": false
   },
   "outputs": [
    {
     "name": "stdout",
     "output_type": "stream",
     "text": [
      "Training Time: 0.859339714050293\n",
      "validation Time: 0.015970230102539062\n",
      "\n",
      "Accuracy: 0.5839333333333333\n",
      "Precision: 0.21714186369958274\n",
      "Recall: 0.4181452962838969\n",
      "f1 score: 0.2858450623641149\n",
      "\n",
      "\n",
      "              precision    recall  f1-score   support\n",
      "\n",
      "           0       0.81      0.63      0.71     12013\n",
      "           1       0.22      0.42      0.29      2987\n",
      "\n",
      "    accuracy                           0.58     15000\n",
      "   macro avg       0.51      0.52      0.50     15000\n",
      "weighted avg       0.69      0.58      0.62     15000\n",
      "\n",
      "\n",
      "\n"
     ]
    },
    {
     "data": {
      "text/plain": [
       "BaggingClassifier(base_estimator=LogisticRegression(random_state=0),\n",
       "                  max_features=0.5, max_samples=0.5)"
      ]
     },
     "execution_count": 29,
     "metadata": {},
     "output_type": "execute_result"
    },
    {
     "data": {
      "image/png": "[encoded data removed]",
      "text/plain": [
       "<Figure size 432x288 with 2 Axes>"
      ]
     },
     "metadata": {
      "needs_background": "light"
     },
     "output_type": "display_data"
    }
   ],
   "source": [
    "\n",
    "bagging_lg_model = BaggingClassifier(lg_model,\n",
    "                            max_samples=0.5, max_features=0.5)\n",
    "model_metrics(bagging_lg_model, X_train, X_test, y_train, y_test)"
   ]
  },
  {
   "cell_type": "code",
   "execution_count": 30,
   "id": "800587cd",
   "metadata": {
    "scrolled": false
   },
   "outputs": [
    {
     "name": "stderr",
     "output_type": "stream",
     "text": [
      "C:\\Users\\Ekhlas\\AppData\\Local\\Programs\\Python\\Python310\\lib\\site-packages\\sklearn\\linear_model\\_logistic.py:814: ConvergenceWarning: lbfgs failed to converge (status=1):\n",
      "STOP: TOTAL NO. of ITERATIONS REACHED LIMIT.\n",
      "\n",
      "Increase the number of iterations (max_iter) or scale the data as shown in:\n",
      "    https://scikit-learn.org/stable/modules/preprocessing.html\n",
      "Please also refer to the documentation for alternative solver options:\n",
      "    https://scikit-learn.org/stable/modules/linear_model.html#logistic-regression\n",
      "  n_iter_i = _check_optimize_result(\n",
      "C:\\Users\\Ekhlas\\AppData\\Local\\Programs\\Python\\Python310\\lib\\site-packages\\sklearn\\linear_model\\_logistic.py:814: ConvergenceWarning: lbfgs failed to converge (status=1):\n",
      "STOP: TOTAL NO. of ITERATIONS REACHED LIMIT.\n",
      "\n",
      "Increase the number of iterations (max_iter) or scale the data as shown in:\n",
      "    https://scikit-learn.org/stable/modules/preprocessing.html\n",
      "Please also refer to the documentation for alternative solver options:\n",
      "    https://scikit-learn.org/stable/modules/linear_model.html#logistic-regression\n",
      "  n_iter_i = _check_optimize_result(\n",
      "C:\\Users\\Ekhlas\\AppData\\Local\\Programs\\Python\\Python310\\lib\\site-packages\\sklearn\\linear_model\\_logistic.py:814: ConvergenceWarning: lbfgs failed to converge (status=1):\n",
      "STOP: TOTAL NO. of ITERATIONS REACHED LIMIT.\n",
      "\n",
      "Increase the number of iterations (max_iter) or scale the data as shown in:\n",
      "    https://scikit-learn.org/stable/modules/preprocessing.html\n",
      "Please also refer to the documentation for alternative solver options:\n",
      "    https://scikit-learn.org/stable/modules/linear_model.html#logistic-regression\n",
      "  n_iter_i = _check_optimize_result(\n"
     ]
    },
    {
     "name": "stdout",
     "output_type": "stream",
     "text": [
      "Training Time: 2.8217122554779053\n",
      "validation Time: 0.0650022029876709\n",
      "\n",
      "Accuracy: 0.8386666666666667\n",
      "Precision: 0.6393120393120393\n",
      "Recall: 0.435554067626381\n",
      "f1 score: 0.5181202708084429\n",
      "\n",
      "\n",
      "              precision    recall  f1-score   support\n",
      "\n",
      "           0       0.87      0.94      0.90     12013\n",
      "           1       0.64      0.44      0.52      2987\n",
      "\n",
      "    accuracy                           0.84     15000\n",
      "   macro avg       0.75      0.69      0.71     15000\n",
      "weighted avg       0.82      0.84      0.83     15000\n",
      "\n",
      "\n",
      "\n"
     ]
    },
    {
     "data": {
      "text/plain": [
       "AdaBoostClassifier(base_estimator=LogisticRegression(random_state=0),\n",
       "                   random_state=0)"
      ]
     },
     "execution_count": 30,
     "metadata": {},
     "output_type": "execute_result"
    },
    {
     "data": {
      "image/png": "[encoded data removed]",
      "text/plain": [
       "<Figure size 432x288 with 2 Axes>"
      ]
     },
     "metadata": {
      "needs_background": "light"
     },
     "output_type": "display_data"
    }
   ],
   "source": [
    "\n",
    "boost_lg_model = AdaBoostClassifier(base_estimator=lg_model, n_estimators=50, random_state=0)\n",
    "model_metrics(boost_lg_model, X_train, X_test, y_train, y_test)"
   ]
  },
  {
   "cell_type": "markdown",
   "id": "e513297c",
   "metadata": {},
   "source": [
    "### perceptron"
   ]
  },
  {
   "cell_type": "code",
   "execution_count": 31,
   "id": "237c1606",
   "metadata": {},
   "outputs": [
    {
     "name": "stdout",
     "output_type": "stream",
     "text": [
      "Training Time: 0.15588831901550293\n",
      "validation Time: 0.0\n",
      "\n",
      "Accuracy: 0.7454666666666667\n",
      "Precision: 0.3256399496433068\n",
      "Recall: 0.2597924338801473\n",
      "f1 score: 0.28901303538175044\n",
      "\n",
      "\n",
      "              precision    recall  f1-score   support\n",
      "\n",
      "           0       0.82      0.87      0.84     12013\n",
      "           1       0.33      0.26      0.29      2987\n",
      "\n",
      "    accuracy                           0.75     15000\n",
      "   macro avg       0.58      0.56      0.57     15000\n",
      "weighted avg       0.73      0.75      0.73     15000\n",
      "\n",
      "\n",
      "\n"
     ]
    },
    {
     "data": {
      "text/plain": [
       "Perceptron()"
      ]
     },
     "execution_count": 31,
     "metadata": {},
     "output_type": "execute_result"
    },
    {
     "data": {
      "image/png": "[encoded data removed]",
      "text/plain": [
       "<Figure size 432x288 with 2 Axes>"
      ]
     },
     "metadata": {
      "needs_background": "light"
     },
     "output_type": "display_data"
    }
   ],
   "source": [
    "\n",
    "perceptron_model = Perceptron(tol=1e-3, random_state=0)\n",
    "model_metrics(perceptron_model, X_train, X_test, y_train, y_test)"
   ]
  },
  {
   "cell_type": "code",
   "execution_count": 32,
   "id": "cbe5ee7a",
   "metadata": {},
   "outputs": [
    {
     "name": "stdout",
     "output_type": "stream",
     "text": [
      "Training Time: 0.23779010772705078\n",
      "validation Time: 0.06246662139892578\n",
      "\n",
      "Accuracy: 0.7694\n",
      "Precision: 0.21971496437054633\n",
      "Recall: 0.061935051891529966\n",
      "f1 score: 0.0966309741446853\n",
      "\n",
      "\n",
      "              precision    recall  f1-score   support\n",
      "\n",
      "           0       0.80      0.95      0.87     12013\n",
      "           1       0.22      0.06      0.10      2987\n",
      "\n",
      "    accuracy                           0.77     15000\n",
      "   macro avg       0.51      0.50      0.48     15000\n",
      "weighted avg       0.69      0.77      0.71     15000\n",
      "\n",
      "\n",
      "\n"
     ]
    },
    {
     "data": {
      "text/plain": [
       "BaggingClassifier(base_estimator=Perceptron(), max_features=0.5,\n",
       "                  max_samples=0.5)"
      ]
     },
     "execution_count": 32,
     "metadata": {},
     "output_type": "execute_result"
    },
    {
     "data": {
      "image/png": "[encoded data removed]",
      "text/plain": [
       "<Figure size 432x288 with 2 Axes>"
      ]
     },
     "metadata": {
      "needs_background": "light"
     },
     "output_type": "display_data"
    }
   ],
   "source": [
    "\n",
    "bagging_perceptron_model = BaggingClassifier(perceptron_model,\n",
    "                            max_samples=0.5, max_features=0.5)\n",
    "model_metrics(bagging_perceptron_model, X_train, X_test, y_train, y_test)"
   ]
  },
  {
   "cell_type": "code",
   "execution_count": 33,
   "id": "7d21646c",
   "metadata": {},
   "outputs": [
    {
     "name": "stdout",
     "output_type": "stream",
     "text": [
      "Training Time: 0.1869192123413086\n",
      "validation Time: 0.0\n",
      "\n",
      "Accuracy: 0.7474666666666666\n",
      "Precision: 0.37635072553257176\n",
      "Recall: 0.4081017743555407\n",
      "f1 score: 0.39158368133633153\n",
      "\n",
      "\n",
      "              precision    recall  f1-score   support\n",
      "\n",
      "           0       0.85      0.83      0.84     12013\n",
      "           1       0.38      0.41      0.39      2987\n",
      "\n",
      "    accuracy                           0.75     15000\n",
      "   macro avg       0.61      0.62      0.62     15000\n",
      "weighted avg       0.76      0.75      0.75     15000\n",
      "\n",
      "\n",
      "\n"
     ]
    },
    {
     "data": {
      "text/plain": [
       "AdaBoostClassifier(algorithm='SAMME', base_estimator=Perceptron(),\n",
       "                   random_state=0)"
      ]
     },
     "execution_count": 33,
     "metadata": {},
     "output_type": "execute_result"
    },
    {
     "data": {
      "image/png": "[encoded data removed]",
      "text/plain": [
       "<Figure size 432x288 with 2 Axes>"
      ]
     },
     "metadata": {
      "needs_background": "light"
     },
     "output_type": "display_data"
    }
   ],
   "source": [
    "\n",
    "boost_perceptron_model = AdaBoostClassifier(base_estimator=perceptron_model, n_estimators=50, random_state=0, algorithm='SAMME')\n",
    "model_metrics(boost_perceptron_model, X_train, X_test, y_train, y_test)\n",
    "# requires that the weak learner supports the calculation of class probabilities"
   ]
  },
  {
   "cell_type": "markdown",
   "id": "41e54edd",
   "metadata": {},
   "source": [
    "### MLP"
   ]
  },
  {
   "cell_type": "code",
   "execution_count": 34,
   "id": "82be44b7",
   "metadata": {},
   "outputs": [
    {
     "name": "stdout",
     "output_type": "stream",
     "text": [
      "Training Time: 8.557721376419067\n",
      "validation Time: 0.0156252384185791\n",
      "\n",
      "Accuracy: 0.9046666666666666\n",
      "Precision: 0.7418452935694315\n",
      "Recall: 0.7994643454971543\n",
      "f1 score: 0.7695778279084755\n",
      "\n",
      "\n",
      "              precision    recall  f1-score   support\n",
      "\n",
      "           0       0.95      0.93      0.94     12013\n",
      "           1       0.74      0.80      0.77      2987\n",
      "\n",
      "    accuracy                           0.90     15000\n",
      "   macro avg       0.85      0.87      0.85     15000\n",
      "weighted avg       0.91      0.90      0.91     15000\n",
      "\n",
      "\n",
      "\n"
     ]
    },
    {
     "data": {
      "text/plain": [
       "MLPClassifier(max_iter=300, random_state=1)"
      ]
     },
     "execution_count": 34,
     "metadata": {},
     "output_type": "execute_result"
    },
    {
     "data": {
      "image/png": "[encoded data removed]",
      "text/plain": [
       "<Figure size 432x288 with 2 Axes>"
      ]
     },
     "metadata": {
      "needs_background": "light"
     },
     "output_type": "display_data"
    }
   ],
   "source": [
    "\n",
    "mlp_model = MLPClassifier(random_state=1, max_iter=300)\n",
    "model_metrics(mlp_model, X_train, X_test, y_train, y_test)"
   ]
  },
  {
   "cell_type": "code",
   "execution_count": 35,
   "id": "698f76dd",
   "metadata": {},
   "outputs": [
    {
     "name": "stdout",
     "output_type": "stream",
     "text": [
      "Training Time: 35.94432759284973\n",
      "validation Time: 0.1406419277191162\n",
      "\n",
      "Accuracy: 0.9361333333333334\n",
      "Precision: 0.9363440860215054\n",
      "Recall: 0.7288249079343824\n",
      "f1 score: 0.8196536144578315\n",
      "\n",
      "\n",
      "              precision    recall  f1-score   support\n",
      "\n",
      "           0       0.94      0.99      0.96     12013\n",
      "           1       0.94      0.73      0.82      2987\n",
      "\n",
      "    accuracy                           0.94     15000\n",
      "   macro avg       0.94      0.86      0.89     15000\n",
      "weighted avg       0.94      0.94      0.93     15000\n",
      "\n",
      "\n",
      "\n"
     ]
    },
    {
     "data": {
      "text/plain": [
       "BaggingClassifier(base_estimator=MLPClassifier(max_iter=300, random_state=1),\n",
       "                  max_features=0.5, max_samples=0.5)"
      ]
     },
     "execution_count": 35,
     "metadata": {},
     "output_type": "execute_result"
    },
    {
     "data": {
      "image/png": "[encoded data removed]",
      "text/plain": [
       "<Figure size 432x288 with 2 Axes>"
      ]
     },
     "metadata": {
      "needs_background": "light"
     },
     "output_type": "display_data"
    }
   ],
   "source": [
    "\n",
    "bagging_mlp_model = BaggingClassifier(mlp_model,\n",
    "                            max_samples=0.5, max_features=0.5)\n",
    "model_metrics(bagging_mlp_model, X_train, X_test, y_train, y_test)"
   ]
  },
  {
   "cell_type": "code",
   "execution_count": 36,
   "id": "f0421cbe",
   "metadata": {},
   "outputs": [
    {
     "ename": "ModuleNotFoundError",
     "evalue": "No module named 'xgboost'",
     "output_type": "error",
     "traceback": [
      "\u001b[1;31m---------------------------------------------------------------------------\u001b[0m",
      "\u001b[1;31mModuleNotFoundError\u001b[0m                       Traceback (most recent call last)",
      "Input \u001b[1;32mIn [36]\u001b[0m, in \u001b[0;36m<module>\u001b[1;34m\u001b[0m\n\u001b[1;32m----> 1\u001b[0m \u001b[38;5;28;01mfrom\u001b[39;00m \u001b[38;5;21;01mxgboost\u001b[39;00m \u001b[38;5;28;01mimport\u001b[39;00m XGBClassifier\n\u001b[0;32m      2\u001b[0m xgboost_model \u001b[38;5;241m=\u001b[39m XGBClassifier(random_state\u001b[38;5;241m=\u001b[39m\u001b[38;5;241m0\u001b[39m) \n\u001b[0;32m      3\u001b[0m model_metrics(xgboost_model, X_train, X_test, y_train, y_test)\n",
      "\u001b[1;31mModuleNotFoundError\u001b[0m: No module named 'xgboost'"
     ]
    }
   ],
   "source": [
    "\n",
    "xgboost_model = XGBClassifier(random_state=0) \n",
    "model_metrics(xgboost_model, X_train, X_test, y_train, y_test)"
   ]
  },
  {
   "cell_type": "code",
   "execution_count": 39,
   "id": "8978e436",
   "metadata": {},
   "outputs": [
    {
     "ename": "NameError",
     "evalue": "name 'CatBoostClassifier' is not defined",
     "output_type": "error",
     "traceback": [
      "\u001b[1;31m---------------------------------------------------------------------------\u001b[0m",
      "\u001b[1;31mNameError\u001b[0m                                 Traceback (most recent call last)",
      "Input \u001b[1;32mIn [39]\u001b[0m, in \u001b[0;36m<module>\u001b[1;34m\u001b[0m\n\u001b[1;32m----> 1\u001b[0m model_cat \u001b[38;5;241m=\u001b[39m \u001b[43mCatBoostClassifier\u001b[49m(verbose\u001b[38;5;241m=\u001b[39m\u001b[38;5;241m0\u001b[39m, n_estimators\u001b[38;5;241m=\u001b[39m\u001b[38;5;241m1000\u001b[39m)\n\u001b[0;32m      2\u001b[0m model_metrics(model_cat, X_train, X_test, y_train, y_test)\n",
      "\u001b[1;31mNameError\u001b[0m: name 'CatBoostClassifier' is not defined"
     ]
    }
   ],
   "source": [
    "model_cat = CatBoostClassifier(verbose=0, n_estimators=1000)\n",
    "model_metrics(model_cat, X_train, X_test, y_train, y_test)"
   ]
  },
  {
   "cell_type": "code",
   "execution_count": null,
   "id": "14958938",
   "metadata": {},
   "outputs": [],
   "source": []
  },
  {
   "cell_type": "markdown",
   "id": "25bdcce7",
   "metadata": {},
   "source": [
    "### Stacking"
   ]
  },
  {
   "cell_type": "code",
   "execution_count": 37,
   "id": "100e006d",
   "metadata": {},
   "outputs": [
    {
     "name": "stdout",
     "output_type": "stream",
     "text": [
      "Training Time: 57.895676612854004\n",
      "validation Time: 10.561275482177734\n",
      "\n",
      "Accuracy: 0.9948\n",
      "Precision: 0.9837046890588627\n",
      "Recall: 0.9902912621359223\n",
      "f1 score: 0.986986986986987\n",
      "\n",
      "\n",
      "              precision    recall  f1-score   support\n",
      "\n",
      "           0       1.00      1.00      1.00     12013\n",
      "           1       0.98      0.99      0.99      2987\n",
      "\n",
      "    accuracy                           0.99     15000\n",
      "   macro avg       0.99      0.99      0.99     15000\n",
      "weighted avg       0.99      0.99      0.99     15000\n",
      "\n",
      "\n",
      "\n"
     ]
    },
    {
     "data": {
      "text/plain": [
       "StackingClassifier(estimators=[('knn', KNeighborsClassifier()),\n",
       "                               ('dt', DecisionTreeClassifier()),\n",
       "                               ('mlp',\n",
       "                                MLPClassifier(max_iter=300, random_state=1))],\n",
       "                   final_estimator=LogisticRegression())"
      ]
     },
     "execution_count": 37,
     "metadata": {},
     "output_type": "execute_result"
    },
    {
     "data": {
      "image/png": "[encoded data removed]",
      "text/plain": [
       "<Figure size 432x288 with 2 Axes>"
      ]
     },
     "metadata": {
      "needs_background": "light"
     },
     "output_type": "display_data"
    }
   ],
   "source": [
    "from sklearn.ensemble import StackingClassifier\n",
    "# KNN, DT, MLP\n",
    "estimators = [\n",
    "    ('knn', knn_model),\n",
    "    ('dt', tree_model),\n",
    "    ('mlp', mlp_model)]\n",
    "    \n",
    "stack_knn_dt_mlp_model = StackingClassifier(\n",
    "    estimators=estimators, final_estimator=LogisticRegression())\n",
    "\n",
    "model_metrics(stack_knn_dt_mlp_model, X_train, X_test, y_train, y_test)   "
   ]
  },
  {
   "cell_type": "code",
   "execution_count": 38,
   "id": "94cf363f",
   "metadata": {},
   "outputs": [
    {
     "ename": "NameError",
     "evalue": "name 'cat_model' is not defined",
     "output_type": "error",
     "traceback": [
      "\u001b[1;31m---------------------------------------------------------------------------\u001b[0m",
      "\u001b[1;31mNameError\u001b[0m                                 Traceback (most recent call last)",
      "Input \u001b[1;32mIn [38]\u001b[0m, in \u001b[0;36m<module>\u001b[1;34m\u001b[0m\n\u001b[0;32m      1\u001b[0m \u001b[38;5;28;01mfrom\u001b[39;00m \u001b[38;5;21;01msklearn\u001b[39;00m\u001b[38;5;21;01m.\u001b[39;00m\u001b[38;5;21;01mensemble\u001b[39;00m \u001b[38;5;28;01mimport\u001b[39;00m StackingClassifier\n\u001b[0;32m      2\u001b[0m \u001b[38;5;66;03m# dt, rf, cat\u001b[39;00m\n\u001b[0;32m      3\u001b[0m estimators \u001b[38;5;241m=\u001b[39m [\n\u001b[0;32m      4\u001b[0m     (\u001b[38;5;124m'\u001b[39m\u001b[38;5;124mdt\u001b[39m\u001b[38;5;124m'\u001b[39m, tree_model),\n\u001b[0;32m      5\u001b[0m     (\u001b[38;5;124m'\u001b[39m\u001b[38;5;124mrf\u001b[39m\u001b[38;5;124m'\u001b[39m, rf_model),\n\u001b[1;32m----> 6\u001b[0m     (\u001b[38;5;124m'\u001b[39m\u001b[38;5;124mcat\u001b[39m\u001b[38;5;124m'\u001b[39m, \u001b[43mcat_model\u001b[49m)]\n\u001b[0;32m      8\u001b[0m stack_dt_rf_cat_model \u001b[38;5;241m=\u001b[39m StackingClassifier(\n\u001b[0;32m      9\u001b[0m     estimators\u001b[38;5;241m=\u001b[39mestimators, final_estimator\u001b[38;5;241m=\u001b[39mLogisticRegression())\n\u001b[0;32m     11\u001b[0m model_metrics(stack_dt_rf_cat_model, X_train, X_test, y_train, y_test)\n",
      "\u001b[1;31mNameError\u001b[0m: name 'cat_model' is not defined"
     ]
    }
   ],
   "source": [
    "\n",
    "# dt, rf, cat\n",
    "estimators = [\n",
    "    ('dt', tree_model),\n",
    "    ('rf', rf_model),\n",
    "    ('cat', cat_model)]\n",
    "    \n",
    "stack_dt_rf_cat_model = StackingClassifier(\n",
    "    estimators=estimators, final_estimator=LogisticRegression())\n",
    "\n",
    "model_metrics(stack_dt_rf_cat_model, X_train, X_test, y_train, y_test)   "
   ]
  },
  {
   "cell_type": "code",
   "execution_count": null,
   "id": "122f9481",
   "metadata": {
    "scrolled": false
   },
   "outputs": [],
   "source": [
    "from sklearn.ensemble import StackingClassifier\n",
    "# rf, cat, xgboost\n",
    "estimators = [\n",
    "    ('rf', rf_model),\n",
    "    ('cat', cat_model),\n",
    "    ('xgb', xgboost_model)]\n",
    "    \n",
    "stack_rf_cat_xgb_model = StackingClassifier(\n",
    "    estimators=estimators, final_estimator=LogisticRegression())\n",
    "\n",
    "model_metrics(stack_rf_cat_xgb_model, X_train, X_test, y_train, y_test)   "
   ]
  },
  {
   "cell_type": "code",
   "execution_count": null,
   "id": "c7623be9",
   "metadata": {
    "scrolled": false
   },
   "outputs": [],
   "source": [
    "from sklearn.ensemble import StackingClassifier\n",
    "# rf, dt, xgboost\n",
    "estimators = [\n",
    "    ('rf', rf_model),\n",
    "    ('dt', tree_model),\n",
    "    ('xgb', xgboost_model)]\n",
    "    \n",
    "stack_rf_dt_xgb_model = StackingClassifier(\n",
    "    estimators=estimators, final_estimator=LogisticRegression())\n",
    "\n",
    "model_metrics(stack_rf_dt_xgb_model, X_train, X_test, y_train, y_test)   "
   ]
  },
  {
   "cell_type": "code",
   "execution_count": null,
   "id": "5cf32855",
   "metadata": {},
   "outputs": [],
   "source": [
    "\n",
    "# rf, dt, catboost\n",
    "estimators = [\n",
    "    ('rf', rf_model),\n",
    "    ('dt', tree_model),\n",
    "    ('cat', cat_model)]\n",
    "    \n",
    "stack_rf_dt_cat_model = StackingClassifier(\n",
    "    estimators=estimators, final_estimator=LogisticRegression())\n",
    "\n",
    "model_metrics(stack_rf_dt_cat_model, X_train, X_test, y_train, y_test)   "
   ]
  },
  {
   "cell_type": "code",
   "execution_count": null,
   "id": "5c3d7705",
   "metadata": {},
   "outputs": [],
   "source": []
  }
 ],
 "metadata": {
  "kernelspec": {
   "display_name": "Python 3 (ipykernel)",
   "language": "python",
   "name": "python3"
  },
  "language_info": {
   "codemirror_mode": {
    "name": "ipython",
    "version": 3
   },
   "file_extension": ".py",
   "mimetype": "text/x-python",
   "name": "python",
   "nbconvert_exporter": "python",
   "pygments_lexer": "ipython3",
   "version": "3.10.2"
  }
 },
 "nbformat": 4,
 "nbformat_minor": 5
}
