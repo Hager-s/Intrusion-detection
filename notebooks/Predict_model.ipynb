{
 "cells": [
  {
   "cell_type": "markdown",
   "id": "ee81f6e4",
   "metadata": {},
   "source": [
    "# import libarary"
   ]
  },
  {
   "cell_type": "code",
   "execution_count": 28,
   "id": "ac237272",
   "metadata": {},
   "outputs": [],
   "source": [
    "import pickle \n",
    "import numpy as np"
   ]
  },
  {
   "cell_type": "code",
   "execution_count": 18,
   "id": "8a8d42ca",
   "metadata": {},
   "outputs": [],
   "source": [
    "def preprossening_all(df , im_feature):\n",
    "    df_new = df.drop(['Bwd PSH Flags' ,'Bwd URG Flags', 'Fwd Avg Bytes/Bulk' , 'Fwd Avg Packets/Bulk',\n",
    "                        'Bwd Avg Bytes/Bulk' , 'Bwd Avg Packets/Bulk',\n",
    "                          'Flow ID', 'Source IP', 'Source Port',\n",
    "                           'Destination IP', 'Destination Port', \n",
    "                          'Protocol', 'Timestamp','Fwd Avg Bulk Rate', 'Bwd Avg Bulk Rate'], axis=1)\n",
    "    \n",
    "    df_clean = df_new.replace([np.inf, -np.inf], np.nan).dropna(axis=0)\n",
    "    \n",
    "    df_im = df_clean[im_feature]\n",
    "    df_im['Label'] = df_clean.Label\n",
    "    \n",
    "    return df_im \n",
    "    "
   ]
  },
  {
   "cell_type": "code",
   "execution_count": 26,
   "id": "7ae3a8fd",
   "metadata": {},
   "outputs": [
    {
     "data": {
      "text/plain": [
       "0.997682595775629"
      ]
     },
     "execution_count": 26,
     "metadata": {},
     "output_type": "execute_result"
    }
   ],
   "source": [
    "def predict_data(df):\n",
    "    \n",
    "    cat_boost = pickle.load(open(\"../../models/catboost_model.pkl\", 'rb'))\n",
    "    im_feature = ['PSH Flag Count','Init_Win_bytes_forward','Bwd Packet Length Std',\n",
    "                    'Avg Bwd Segment Size',\n",
    "                    'Bwd Packet Length Max',\n",
    "                    'Packet Length Variance',\n",
    "                    'Bwd Packet Length Mean',\n",
    "                      'Bwd Packet Length Min',\n",
    "                    'Packet Length Std',\n",
    "                    'min_seg_size_forward',\n",
    "                    'Average Packet Size',\n",
    "                    'Flow IAT Max',\n",
    "                    'Fwd IAT Std',\n",
    "                    'Idle Min',\n",
    "                    'Packet Length Mean',\n",
    "                    'Fwd IAT Max',\n",
    "                    'Idle Max',\n",
    "                    'ACK Flag Count',\n",
    "                    'Flow IAT Std',\n",
    "                    'URG Flag Count']\n",
    "    \n",
    "    data = preprossening_all(df , im_feature)\n",
    "\n",
    "    y_pred = cat_boost.predict(data)\n",
    "    \n",
    "    pred_proba = cat_boost.predict_proba(data)\n",
    "    \n",
    "    y_pred_proba = []\n",
    "    \n",
    "    for i in pred_proba:\n",
    "        y_pred_proba.append(np.max(i))\n",
    "    \n",
    "    return y_pred , y_pred_proba\n"
   ]
  },
  {
   "cell_type": "code",
   "execution_count": null,
   "id": "5c3d7705",
   "metadata": {},
   "outputs": [],
   "source": []
  }
 ],
 "metadata": {
  "kernelspec": {
   "display_name": "Python 3 (ipykernel)",
   "language": "python",
   "name": "python3"
  },
  "language_info": {
   "codemirror_mode": {
    "name": "ipython",
    "version": 3
   },
   "file_extension": ".py",
   "mimetype": "text/x-python",
   "name": "python",
   "nbconvert_exporter": "python",
   "pygments_lexer": "ipython3",
   "version": "3.10.2"
  }
 },
 "nbformat": 4,
 "nbformat_minor": 5
}
